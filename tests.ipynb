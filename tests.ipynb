{
 "cells": [
  {
   "cell_type": "markdown",
   "metadata": {},
   "source": [
    "# Start"
   ]
  },
  {
   "cell_type": "code",
   "execution_count": null,
   "metadata": {},
   "outputs": [],
   "source": [
    "from main import TareffaSite, main, get_list_of_changes\n",
    "\n",
    "import pandas as pd\n",
    "from selenium import webdriver\n",
    "from selenium.webdriver.common.by import By\n",
    "from selenium.webdriver.support.ui import WebDriverWait\n",
    "from selenium.webdriver.support import expected_conditions as EC\n",
    "\n",
    "from time import sleep"
   ]
  },
  {
   "cell_type": "markdown",
   "metadata": {},
   "source": [
    "## Manual Start"
   ]
  },
  {
   "cell_type": "code",
   "execution_count": null,
   "metadata": {},
   "outputs": [],
   "source": [
    "browser = webdriver.Chrome()\n",
    "tareffa_site = TareffaSite(browser)\n",
    "tareffa_site.login()"
   ]
  },
  {
   "cell_type": "markdown",
   "metadata": {},
   "source": [
    "## Testes update_client_attributes"
   ]
  },
  {
   "cell_type": "code",
   "execution_count": null,
   "metadata": {},
   "outputs": [],
   "source": [
    "tareffa_site.update_client_attributes(19302945)"
   ]
  },
  {
   "cell_type": "code",
   "execution_count": null,
   "metadata": {},
   "outputs": [],
   "source": [
    "xpath_caracteristicas = '//div[@role=\"tab\"]/div[contains(text(), \"Características\")]'\n",
    "WebDriverWait(browser, 90).until(EC.presence_of_element_located((By.XPATH, xpath_caracteristicas)))\n",
    "browser.find_element(By.XPATH, xpath_caracteristicas).click()\n",
    "\n",
    "#browser.find_element(By.XPATH, ).click()"
   ]
  },
  {
   "cell_type": "code",
   "execution_count": null,
   "metadata": {},
   "outputs": [],
   "source": [
    "#Load 50 at a time\n",
    "xpath_limit = '//div[contains(text(), \"Itens por página\")]/../mat-form-field'\n",
    "WebDriverWait(browser, 90).until(EC.presence_of_element_located((By.XPATH, xpath_limit)))\n",
    "browser.find_element(By.XPATH, xpath_limit).click()\n",
    "xpath_limit_50 = '//span[contains(text(), \" 50 \")]'\n",
    "WebDriverWait(browser, 90).until(EC.presence_of_element_located((By.XPATH, xpath_limit_50)))\n",
    "browser.find_element(By.XPATH, xpath_limit_50).click()"
   ]
  },
  {
   "cell_type": "code",
   "execution_count": null,
   "metadata": {},
   "outputs": [],
   "source": [
    "tx_of_changes = '10|N/A|N/A|4|N/A|N/A|N/A|6|N/A|N/A|N/A|N/A'\n",
    "temp = tx_of_changes.split(\"|\")\n",
    "\n",
    "list_of_changes = list(x.split(\";\") for x in temp)"
   ]
  },
  {
   "cell_type": "code",
   "execution_count": null,
   "metadata": {},
   "outputs": [],
   "source": [
    "attribute_groups = browser.find_elements(By.TAG_NAME, 'mat-cell')\n",
    "for element_group, changes in zip(attribute_groups, list_of_changes):\n",
    "    if changes[0] != 'N/A':\n",
    "        print(element_group.find_element(By.TAG_NAME, 'a').text, changes[:])\n",
    "        element_group.click()\n",
    "        sleep(0.5)\n",
    "\n",
    "        all_attributes = '//*[@class=\"container d-flex flex-wrap\"]/*/div/app-checkbox/div/div/input'\n",
    "        WebDriverWait(browser, 90).until(EC.presence_of_element_located((By.XPATH, all_attributes)))\n",
    "\n",
    "        elements_att = browser.find_elements(By.XPATH, all_attributes)\n",
    "        i = 1\n",
    "        for element in elements_att:\n",
    "\n",
    "            if str(i) in changes and not element.is_selected():\n",
    "                element.find_element(By.XPATH, \"./..\").click()   # Check\n",
    "            if not(str(i) in changes) and element.is_selected():\n",
    "                element.find_element(By.XPATH, \"./..\").click()   # UnCheck\n",
    "            i += 1"
   ]
  },
  {
   "cell_type": "code",
   "execution_count": null,
   "metadata": {},
   "outputs": [],
   "source": [
    "print(list_of_changes)"
   ]
  },
  {
   "cell_type": "code",
   "execution_count": null,
   "metadata": {},
   "outputs": [],
   "source": [
    "tx_of_changes = '10|N/A|N/A|4|N/A|N/A|N/A|6|N/A|N/A|N/A|N/A'\n",
    "temp = tx_of_changes.split(\"|\")\n",
    "\n",
    "list_of_changes = list(x.split(\";\") for x in temp)\n",
    "\n",
    "tareffa_site.set_size_attibutes_gourp()"
   ]
  },
  {
   "cell_type": "code",
   "execution_count": null,
   "metadata": {},
   "outputs": [],
   "source": [
    "tareffa_site.update_client_attributes(19302945, list_of_changes)"
   ]
  },
  {
   "cell_type": "code",
   "execution_count": null,
   "metadata": {},
   "outputs": [],
   "source": [
    "browser.get(f\"https://web.tareffa.com.br/empresas/19303317\")"
   ]
  },
  {
   "cell_type": "code",
   "execution_count": null,
   "metadata": {},
   "outputs": [],
   "source": [
    "#CLICK TEST\n",
    "\n",
    "changes = ['10']\n",
    "\n",
    "all_attributes = '//*[@class=\"container d-flex flex-wrap\"]/*/div/app-checkbox/div/div/input'\n",
    "WebDriverWait(browser, 90).until(EC.presence_of_element_located((By.XPATH, all_attributes)))\n",
    "\n",
    "elements_att = browser.find_elements(By.XPATH, all_attributes)\n",
    "i = 1\n",
    "for element in elements_att:\n",
    "    if str(i) in changes and not element.is_selected():\n",
    "        print('go', i)\n",
    "        element.find_element(By.XPATH, \"./../label\").click()   # Check\n",
    "    i += 1"
   ]
  },
  {
   "cell_type": "code",
   "execution_count": null,
   "metadata": {},
   "outputs": [],
   "source": [
    "TXxpath = '//*[@class=\"container d-flex flex-wrap\"]/*/div/app-checkbox/div/div/input/..'\n",
    "browser.find_element(By.XPATH, TXxpath).click()"
   ]
  },
  {
   "cell_type": "markdown",
   "metadata": {},
   "source": [
    "## Get Changes"
   ]
  },
  {
   "cell_type": "code",
   "execution_count": null,
   "metadata": {},
   "outputs": [],
   "source": [
    "path = 'Base Atualização.xlsx'\n",
    "sht_name = 'Alterações'\n",
    "\n",
    "def convert_to_list(tx_modify):\n",
    "    temp_list = tx_modify.split(\"|\")\n",
    "    list_of_changes = list(x.split(\";\") for x in temp_list)\n",
    "    return list_of_changes\n",
    "\n",
    "\n",
    "sht_changes = pd.read_excel(path, 'Alterações')\n",
    "sht_changes = sht_changes[['idempresa', 'Alterações']]\n",
    "sht_changes['Alterações'] = sht_changes['Alterações'].apply(convert_to_list)"
   ]
  },
  {
   "cell_type": "code",
   "execution_count": null,
   "metadata": {},
   "outputs": [],
   "source": [
    "sht_changes"
   ]
  },
  {
   "cell_type": "markdown",
   "metadata": {},
   "source": [
    "## Full Test"
   ]
  },
  {
   "cell_type": "code",
   "execution_count": null,
   "metadata": {},
   "outputs": [],
   "source": [
    "main()"
   ]
  }
 ],
 "metadata": {
  "kernelspec": {
   "display_name": "Python 3",
   "language": "python",
   "name": "python3"
  },
  "language_info": {
   "codemirror_mode": {
    "name": "ipython",
    "version": 3
   },
   "file_extension": ".py",
   "mimetype": "text/x-python",
   "name": "python",
   "nbconvert_exporter": "python",
   "pygments_lexer": "ipython3",
   "version": "3.11.2"
  }
 },
 "nbformat": 4,
 "nbformat_minor": 2
}
